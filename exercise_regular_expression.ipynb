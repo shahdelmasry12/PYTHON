{
 "cells": [
  {
   "cell_type": "code",
   "execution_count": 1,
   "id": "a2c09de2",
   "metadata": {
    "execution": {
     "iopub.execute_input": "2025-09-15T12:29:35.114997Z",
     "iopub.status.busy": "2025-09-15T12:29:35.114087Z",
     "iopub.status.idle": "2025-09-15T12:29:35.121600Z",
     "shell.execute_reply": "2025-09-15T12:29:35.120928Z"
    },
    "papermill": {
     "duration": 0.013074,
     "end_time": "2025-09-15T12:29:35.122947",
     "exception": false,
     "start_time": "2025-09-15T12:29:35.109873",
     "status": "completed"
    },
    "tags": []
   },
   "outputs": [],
   "source": [
    "import re"
   ]
  },
  {
   "cell_type": "code",
   "execution_count": 2,
   "id": "934d4650",
   "metadata": {
    "execution": {
     "iopub.execute_input": "2025-09-15T12:29:35.128960Z",
     "iopub.status.busy": "2025-09-15T12:29:35.128455Z",
     "iopub.status.idle": "2025-09-15T12:29:35.133560Z",
     "shell.execute_reply": "2025-09-15T12:29:35.132681Z"
    },
    "papermill": {
     "duration": 0.009525,
     "end_time": "2025-09-15T12:29:35.135057",
     "exception": false,
     "start_time": "2025-09-15T12:29:35.125532",
     "status": "completed"
    },
    "tags": []
   },
   "outputs": [],
   "source": [
    "text = \"\"\"Hello,  \n",
    "You can contact me on +1 (555) 123-4567 or on my UK number +44 20 7946 0958 or on my Egypt number +20 1234567891.  \n",
    "My main email is john.smith@gmail.com and another one is support.team@company.org.  \n",
    "For sales inquiries, write to sales@shop-example.net or call us at +20 100 123 4567.  \n",
    "Visit our website at https://www.example.org or check the portal at http://localhost:3000/. \n",
    "My friend Maria lives at 123 Example Street, Apt 4B, New York, NY, 10001, USA.  \n",
    "Her email is maria.garcia@correo.es and her backup email is maria.g@university.edu.eg \n",
    "Another colleague Ivan can be contacted via ivan.petrov@example.ru and his phone is +7 495 123-45-67.  \n",
    "Our Egypt office is located at 12 Nile Street, Building 5, Floor 2, Cairo, 11511, Egypt.  \n",
    "If needed, send files to files@datahub.example.com or open http://datahub.example.com/upload.  \n",
    "HR team uses hr@company-example.com and phone +971 50 123 4567.  \n",
    "The Paris office is at 3 Rue de l’Exemple, 75001 Paris, France.  \n",
    "You can also call our backup line at 020-7946-0011 or email backup@archive.example.co.  \n",
    "Emergency contact is +33 612 345 678 and email emergency@service.fr.  \n",
    "For payments use payments@fin-example.com, website https://fin-example.com/pay, or call +49 30 123456.  \n",
    "John Doe’s personal email is john.doe@example.com and his Canadian number is +1-800-555-1212.  \n",
    "Check the blog at https://blog.example.com/2025/09/15/article-title or write to webmaster@site-example.com.  \n",
    "Our Dubai office is at P.O. Box 1234, Downtown, Dubai, UAE, 00000.  \n",
    "For registry information, contact registry@example.org or phone +61 2 1234 5678.  \n",
    "Customer care can be reached at care@support-example.io and hotline +91 98765 43210.  \n",
    "\"\"\""
   ]
  },
  {
   "cell_type": "code",
   "execution_count": 3,
   "id": "f8e0b97f",
   "metadata": {
    "execution": {
     "iopub.execute_input": "2025-09-15T12:29:35.140028Z",
     "iopub.status.busy": "2025-09-15T12:29:35.139759Z",
     "iopub.status.idle": "2025-09-15T12:29:35.143653Z",
     "shell.execute_reply": "2025-09-15T12:29:35.143037Z"
    },
    "papermill": {
     "duration": 0.007906,
     "end_time": "2025-09-15T12:29:35.145024",
     "exception": false,
     "start_time": "2025-09-15T12:29:35.137118",
     "status": "completed"
    },
    "tags": []
   },
   "outputs": [],
   "source": [
    "def re_expres(pattern,string):\n",
    "    for match in re.finditer(pattern,string):\n",
    "        print(match.group())"
   ]
  },
  {
   "cell_type": "code",
   "execution_count": 4,
   "id": "a4178d1b",
   "metadata": {
    "execution": {
     "iopub.execute_input": "2025-09-15T12:29:35.149969Z",
     "iopub.status.busy": "2025-09-15T12:29:35.149702Z",
     "iopub.status.idle": "2025-09-15T12:29:35.153296Z",
     "shell.execute_reply": "2025-09-15T12:29:35.152677Z"
    },
    "papermill": {
     "duration": 0.007489,
     "end_time": "2025-09-15T12:29:35.154557",
     "exception": false,
     "start_time": "2025-09-15T12:29:35.147068",
     "status": "completed"
    },
    "tags": []
   },
   "outputs": [],
   "source": [
    "pattern_phone=r\"\\+\\d[\\d\\s\\-\\(\\)]{7,}\"  \n",
    "pattern_emails=r\"\\w+[\\.\\@]\\w+[\\@\\-]\\w+(\\.\\w+)+\"\n",
    "pattern_URL=r\"https?://[^\\s]+\" "
   ]
  },
  {
   "cell_type": "code",
   "execution_count": 5,
   "id": "a9ae8b79",
   "metadata": {
    "execution": {
     "iopub.execute_input": "2025-09-15T12:29:35.159974Z",
     "iopub.status.busy": "2025-09-15T12:29:35.159409Z",
     "iopub.status.idle": "2025-09-15T12:29:35.164164Z",
     "shell.execute_reply": "2025-09-15T12:29:35.163249Z"
    },
    "papermill": {
     "duration": 0.008894,
     "end_time": "2025-09-15T12:29:35.165420",
     "exception": false,
     "start_time": "2025-09-15T12:29:35.156526",
     "status": "completed"
    },
    "tags": []
   },
   "outputs": [
    {
     "name": "stdout",
     "output_type": "stream",
     "text": [
      "These are all the phone numbers.\n",
      "+1 (555) 123-4567 \n",
      "+44 20 7946 0958 \n",
      "+20 1234567891\n",
      "+20 100 123 4567\n",
      "+7 495 123-45-67\n",
      "+971 50 123 4567\n",
      "+33 612 345 678 \n",
      "+49 30 123456\n",
      "+1-800-555-1212\n",
      "+61 2 1234 5678\n",
      "+91 98765 43210\n",
      "None\n"
     ]
    }
   ],
   "source": [
    "print(\"These are all the phone numbers.\")\n",
    "print(re_expres(pattern_phone,text)) "
   ]
  },
  {
   "cell_type": "code",
   "execution_count": 6,
   "id": "3fca5b62",
   "metadata": {
    "execution": {
     "iopub.execute_input": "2025-09-15T12:29:35.170211Z",
     "iopub.status.busy": "2025-09-15T12:29:35.169982Z",
     "iopub.status.idle": "2025-09-15T12:29:35.175085Z",
     "shell.execute_reply": "2025-09-15T12:29:35.174163Z"
    },
    "papermill": {
     "duration": 0.008848,
     "end_time": "2025-09-15T12:29:35.176297",
     "exception": false,
     "start_time": "2025-09-15T12:29:35.167449",
     "status": "completed"
    },
    "tags": []
   },
   "outputs": [
    {
     "name": "stdout",
     "output_type": "stream",
     "text": [
      "These are all Emails.\n",
      "john.smith@gmail.com\n",
      "support.team@company.org\n",
      "sales@shop-example.net\n",
      "maria.garcia@correo.es\n",
      "maria.g@university.edu.eg\n",
      "ivan.petrov@example.ru\n",
      "hr@company-example.com\n",
      "payments@fin-example.com\n",
      "john.doe@example.com\n",
      "webmaster@site-example.com\n",
      "care@support-example.io\n",
      "None\n"
     ]
    }
   ],
   "source": [
    "print(\"These are all Emails.\")\n",
    "print(re_expres(pattern_emails,text))  "
   ]
  },
  {
   "cell_type": "code",
   "execution_count": 7,
   "id": "715fd152",
   "metadata": {
    "execution": {
     "iopub.execute_input": "2025-09-15T12:29:35.181603Z",
     "iopub.status.busy": "2025-09-15T12:29:35.180973Z",
     "iopub.status.idle": "2025-09-15T12:29:35.185530Z",
     "shell.execute_reply": "2025-09-15T12:29:35.184682Z"
    },
    "papermill": {
     "duration": 0.008603,
     "end_time": "2025-09-15T12:29:35.186971",
     "exception": false,
     "start_time": "2025-09-15T12:29:35.178368",
     "status": "completed"
    },
    "tags": []
   },
   "outputs": [
    {
     "name": "stdout",
     "output_type": "stream",
     "text": [
      "These are all URL.\n",
      "https://www.example.org\n",
      "http://localhost:3000/.\n",
      "http://datahub.example.com/upload.\n",
      "https://fin-example.com/pay,\n",
      "https://blog.example.com/2025/09/15/article-title\n",
      "None\n"
     ]
    }
   ],
   "source": [
    "print(\"These are all URL.\")\n",
    "print(re_expres(pattern_URL,text))"
   ]
  }
 ],
 "metadata": {
  "kaggle": {
   "accelerator": "none",
   "dataSources": [],
   "dockerImageVersionId": 31089,
   "isGpuEnabled": false,
   "isInternetEnabled": false,
   "language": "python",
   "sourceType": "notebook"
  },
  "kernelspec": {
   "display_name": "Python 3",
   "language": "python",
   "name": "python3"
  },
  "language_info": {
   "codemirror_mode": {
    "name": "ipython",
    "version": 3
   },
   "file_extension": ".py",
   "mimetype": "text/x-python",
   "name": "python",
   "nbconvert_exporter": "python",
   "pygments_lexer": "ipython3",
   "version": "3.11.13"
  },
  "papermill": {
   "default_parameters": {},
   "duration": 5.16636,
   "end_time": "2025-09-15T12:29:35.507087",
   "environment_variables": {},
   "exception": null,
   "input_path": "__notebook__.ipynb",
   "output_path": "__notebook__.ipynb",
   "parameters": {},
   "start_time": "2025-09-15T12:29:30.340727",
   "version": "2.6.0"
  }
 },
 "nbformat": 4,
 "nbformat_minor": 5
}
