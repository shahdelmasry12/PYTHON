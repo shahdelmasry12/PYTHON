{
 "cells": [
  {
   "cell_type": "markdown",
   "id": "6c5c36b1-193d-4a06-be6b-551d07d90b80",
   "metadata": {},
   "source": [
    "**********************booleans in python*********************** "
   ]
  },
  {
   "cell_type": "code",
   "execution_count": 1,
   "id": "c784c8bd-f865-4c0a-946a-f84b89a28cc2",
   "metadata": {},
   "outputs": [],
   "source": [
    "#مضاعفات الرقم يعني تزود لارقم بنفس الرقم \n",
    "#ord==digit  unicode to char\n",
    "# \"Hello\"<\"Hi\" --> True # bec unicode He < unicode Hi  e=101 ,i=105\n",
    "# unicode to capital char diff about unicode to small char"
   ]
  },
  {
   "cell_type": "code",
   "execution_count": 2,
   "id": "903efea9-7220-46f3-8022-a9b6adccc044",
   "metadata": {},
   "outputs": [
    {
     "name": "stdout",
     "output_type": "stream",
     "text": [
      "True\n"
     ]
    }
   ],
   "source": [
    "student_age=20\n",
    "hi_grade=True\n",
    "print(student_age>=18 and hi_grade)# his age graeter than or equel to 18 && get high grade"
   ]
  },
  {
   "cell_type": "code",
   "execution_count": 3,
   "id": "8dcf3959-7b21-4434-8297-ae597c5b1ccd",
   "metadata": {},
   "outputs": [
    {
     "data": {
      "text/plain": [
       "True"
      ]
     },
     "execution_count": 3,
     "metadata": {},
     "output_type": "execute_result"
    }
   ],
   "source": [
    "#bool(5)\n",
    "#bool(\"\")\n",
    "#bool(0)\n",
    "bool(\"shahd\")"
   ]
  },
  {
   "cell_type": "markdown",
   "id": "e22a6dab-31bb-494f-b8e6-2d1d66cccaf6",
   "metadata": {},
   "source": [
    "****Codition if && else && elif****"
   ]
  },
  {
   "cell_type": "code",
   "execution_count": 4,
   "id": "ee0f1862-292f-447a-ace0-dc36d26259cd",
   "metadata": {},
   "outputs": [
    {
     "name": "stdin",
     "output_type": "stream",
     "text": [
      "Enter the temperature:  40\n"
     ]
    },
    {
     "name": "stdout",
     "output_type": "stream",
     "text": [
      "it's warm\n",
      "Done\n"
     ]
    }
   ],
   "source": [
    "# to check from temperature\n",
    "temp=float(input(\"Enter the temperature: \"))\n",
    "if temp<=20:\n",
    "    print(\"it's cold\") #4 space\n",
    "elif temp>20 and temp<33:\n",
    "    print(\"it's nice\")\n",
    "else:\n",
    "    print(\"it's warm\")\n",
    "print(\"Done\")    "
   ]
  },
  {
   "cell_type": "code",
   "execution_count": 5,
   "id": "b888fb04-b152-4dd3-b1d5-7064a81671b2",
   "metadata": {},
   "outputs": [
    {
     "name": "stdin",
     "output_type": "stream",
     "text": [
      "Enter your grade:  50\n"
     ]
    },
    {
     "name": "stdout",
     "output_type": "stream",
     "text": [
      "sorry student is declared fail\n"
     ]
    }
   ],
   "source": [
    "# to check from grade\n",
    "grade=int(input(\"Enter your grade: \"))\n",
    "if grade>=60:\n",
    "    print(\"Congratulations\")\n",
    "    print(\"student is declared pass\")\n",
    "else:\n",
    "    print(\"sorry student is declared fail\")"
   ]
  },
  {
   "cell_type": "code",
   "execution_count": 6,
   "id": "1978cdd1-e821-498d-bf88-7611d1901275",
   "metadata": {},
   "outputs": [
    {
     "name": "stdout",
     "output_type": "stream",
     "text": [
      "20\n"
     ]
    }
   ],
   "source": [
    "#### Ternary operator اختصار اسطر برمجيه في سطر واحد\n",
    "# ************to check even or odd*****************\n",
    "#num=int(input(\"Enter the number: \"))\n",
    "# if num%2==0:\n",
    "#     message=\"EVEN\"\n",
    "# else:\n",
    "#     message=\"ODD\"\n",
    "# print(message)    \n",
    "#message =\"EVEN\" if num%2==0 else \"ODD\"\n",
    "#print(message)\n",
    "#***************other example***************\n",
    "a=10\n",
    "b=20\n",
    "max=a if a>b else b\n",
    "print(max)# get 20"
   ]
  },
  {
   "cell_type": "markdown",
   "id": "bca1e6f2-4ed4-40df-8042-8a687f92d0d3",
   "metadata": {},
   "source": []
  },
  {
   "cell_type": "markdown",
   "id": "fedf74fd-8c63-4924-87b5-23a1ddc85d8f",
   "metadata": {},
   "source": [
    "*************************match statement like if ***************"
   ]
  },
  {
   "cell_type": "markdown",
   "id": "347ddeed-19ae-4106-94da-b1b04ba2e263",
   "metadata": {},
   "source": [
    "*************************match statement like if ***************"
   ]
  },
  {
   "cell_type": "code",
   "execution_count": 7,
   "id": "d4008fde-ffb4-40b2-b457-abdf8d6ee6e7",
   "metadata": {},
   "outputs": [
    {
     "name": "stdout",
     "output_type": "stream",
     "text": [
      "1 Arabic\n",
      "2 English\n",
      "3 French\n"
     ]
    },
    {
     "name": "stdin",
     "output_type": "stream",
     "text": [
      "Enter your choice number:  1\n"
     ]
    },
    {
     "name": "stdout",
     "output_type": "stream",
     "text": [
      "Arabic\n"
     ]
    }
   ],
   "source": [
    "print(\"1 Arabic\\n2 English\\n3 French\")\n",
    "choice=int(input(\"Enter your choice number: \"))\n",
    "\n",
    "match choice:\n",
    "     case 1:\n",
    "         print(\"Arabic\")\n",
    "     case 2: \n",
    "         print(\"English\")\n",
    "     case 3: \n",
    "         print(\"French\") \n",
    "     case _ :   #defult case عندما لا تتحقق الشروط السابقه\n",
    "         print(\"unsupported language\")\n",
    "\n"
   ]
  },
  {
   "cell_type": "code",
   "execution_count": 8,
   "id": "38441871-b6ed-4ec5-98cb-c2a1dba6dfd3",
   "metadata": {},
   "outputs": [
    {
     "name": "stdin",
     "output_type": "stream",
     "text": [
      "Enter first number:  3\n",
      "Enter second number:  4\n",
      "Enter operator:  *\n"
     ]
    },
    {
     "name": "stdout",
     "output_type": "stream",
     "text": [
      "3 * 4 = 12\n"
     ]
    }
   ],
   "source": [
    "#calculate by use match\n",
    "n1=int(input(\"Enter first number: \"))\n",
    "n2=int(input(\"Enter second number: \"))\n",
    "operator=input(\"Enter operator: \")\n",
    "match operator:\n",
    "      case \"+\":\n",
    "          print(f\"{n1} + {n2} = {n1+n2}\")\n",
    "      case \"-\":\n",
    "          print(f\"{n1} - {n2} = {n1-n2}\")\n",
    "      case \"*\":\n",
    "          print(f\"{n1} * {n2} = {n1*n2}\")  \n",
    "      case \"/\":\n",
    "          if n2 !=0:\n",
    "              print(f\"{n1} / {n2} = {n1/n2}\")\n",
    "          else:\n",
    "              print(\"cannot divide by zero!\")\n",
    "      case _ :\n",
    "          print(\"Unknown operator!\")"
   ]
  },
  {
   "cell_type": "code",
   "execution_count": 9,
   "id": "d69ee3f7-41fb-4b57-93d0-3869b1906e1b",
   "metadata": {},
   "outputs": [
    {
     "name": "stdin",
     "output_type": "stream",
     "text": [
      "Enter your height in (cm):  157\n",
      "Enter your weight in (kg):  70\n"
     ]
    },
    {
     "name": "stdout",
     "output_type": "stream",
     "text": [
      "Your BMI= 28.40 \n",
      "You have Overweight!\n"
     ]
    }
   ],
   "source": [
    "#to calculate and evaluate the BMI(Body mass index) to persone\n",
    "height=float(input(\"Enter your height in (cm): \"))\n",
    "weight=float(input(\"Enter your weight in (kg): \"))\n",
    "BMI=weight/(height/100)**2\n",
    "if BMI<18.5:\n",
    "    print(f\"Your BMI= {BMI:.2f} \\nYou have Underweight!\")#:.2f take two num after point\n",
    "elif BMI>18.5 and BMI<25:\n",
    "    print(f\"Your BMI= {BMI:.2f} \\nYour Healthy\")\n",
    "elif BMI>25 and BMI<30:\n",
    "    print(f\"Your BMI= {BMI:.2f} \\nYou have Overweight!\")\n",
    "else :\n",
    "    print(f\"Your BMI= {BMI:.2f} \\nYou have Obese!\")\n"
   ]
  },
  {
   "cell_type": "markdown",
   "id": "647a8881-efe1-43ab-93b8-f72941f85ed0",
   "metadata": {},
   "source": [
    "**********************************indexing& slicing تقطيع************************************************88\n",
    "list[start:end:step]"
   ]
  },
  {
   "cell_type": "markdown",
   "id": "e6e377e7-64f0-4a7d-85d5-54cabd415c45",
   "metadata": {},
   "source": [
    "***********LIST مجموعه تحتفظ بترتيبها مش شرط مرتبه***********"
   ]
  },
  {
   "cell_type": "code",
   "execution_count": 10,
   "id": "e07ad175-8f55-4747-8d99-8f158527e704",
   "metadata": {},
   "outputs": [],
   "source": [
    "names=[\"shahd\",\"ahmed\",\"ali\",\"sama\",\"mona\"]\n",
    "#names[0:]\n",
    "#names[0:3]\n",
    "# names[:]\n",
    "#names[-4:-1] #الاخير لا يطبع\n",
    "# names[-2:-3]\n",
    "# names[0:5:2]\n",
    "# names[::2]\n",
    "# names[3]=\"bosy\"#استبدال\n",
    "#names"
   ]
  },
  {
   "cell_type": "code",
   "execution_count": 11,
   "id": "c43170c2-58f3-42ec-bc81-1ca57d26112c",
   "metadata": {},
   "outputs": [
    {
     "name": "stdout",
     "output_type": "stream",
     "text": [
      "['python']\n",
      "['p', 'y', 't', 'h', 'o', 'n']\n"
     ]
    }
   ],
   "source": [
    "# another type of list\n",
    "l1=[\"python\"]\n",
    "l2=list(\"python\") #string=sequece of char here it will slice python work to char in list      هيقطعها\n",
    "print(l1)\n",
    "print(l2)"
   ]
  },
  {
   "cell_type": "code",
   "execution_count": 12,
   "id": "34fbc6c5-8dda-4af1-81da-b1ade6d5c76b",
   "metadata": {},
   "outputs": [
    {
     "data": {
      "text/plain": [
       "[1, 2, 3, 4, 5, 6, 7, 8, 9, 10, 11, 12, 13, 14, 15, 16, 17, 18, 19, 20]"
      ]
     },
     "execution_count": 12,
     "metadata": {},
     "output_type": "execute_result"
    }
   ],
   "source": [
    "#to print set of numbers by using list\n",
    "numbers=list(range(1,20+1))#range  لتحديد نطاق له بدايه ونهايه واخر رقم في النهايه لا يظهر اذا كنت اريد اظهاره بكتبه بزود عليه 1 \n",
    "numbers\n"
   ]
  },
  {
   "cell_type": "markdown",
   "id": "2d6167d8-b54f-4879-ba3c-ca1a62fd44bc",
   "metadata": {},
   "source": [
    "***********************operators***********************"
   ]
  },
  {
   "cell_type": "markdown",
   "id": "1a10a673-50da-44c7-a124-fddcbc110eb4",
   "metadata": {},
   "source": [
    "\n",
    "+ ---> لدمج قائمتين او جملتين\n",
    "* ---> لتكرار الكلام او الجمل في القائمه  او تكرار القائمه\n",
    "in --> للتاكد ما اذا كانت الكلمه موجودة في القائمه او لا  ترجع T or F\n",
    "not in --->   للتاكد من ان الكلمه  غير موجودة في القائمه"
   ]
  },
  {
   "cell_type": "code",
   "execution_count": 13,
   "id": "beeb5ec0-1309-4b1d-8056-9af8e061d18b",
   "metadata": {},
   "outputs": [
    {
     "name": "stdout",
     "output_type": "stream",
     "text": [
      "['shahd', 'roaa', 'ali', 'ziad']\n",
      "['shahd', 'roaa', 'shahd', 'roaa']\n",
      "['shahd', 5, 'shahd', 5, 'shahd', 5]\n",
      "True\n",
      "False\n"
     ]
    }
   ],
   "source": [
    "list1=[\"shahd\",\"roaa\"]\n",
    "list2=[\"ali\",\"ziad\"]\n",
    "list3=list1+list2     #['shahd', 'roaa', 'ali', 'ziad']\n",
    "list4=list1*2        #['shahd', 'roaa', 'shahd', 'roaa']\n",
    "list5=[\"shahd\",5]*3 #['shahd', 5, 'shahd', 5, 'shahd', 5]\n",
    "print(list3)\n",
    "print( list4)\n",
    "print( list5)\n",
    "print(\"shahd\" in list1)   #True\n",
    "print(\"ali\" not in list2) #False"
   ]
  },
  {
   "cell_type": "markdown",
   "id": "03605c2f-ed76-4578-b402-e0e24be71df4",
   "metadata": {},
   "source": [
    "***********************List function***********************"
   ]
  },
  {
   "cell_type": "markdown",
   "id": "ebedee9d-b28b-48e5-9ae4-6dc7dc6b16e4",
   "metadata": {},
   "source": [
    "TO ADD"
   ]
  },
  {
   "cell_type": "code",
   "execution_count": 14,
   "id": "44b4818a-c949-4361-a59f-369f8ce6bab4",
   "metadata": {},
   "outputs": [
    {
     "name": "stdout",
     "output_type": "stream",
     "text": [
      "<class 'list'>\n"
     ]
    }
   ],
   "source": [
    "#****************function  append()*************\n",
    "colors=[\"red\",\"blue\",\"orange\"]\n",
    "print(type(colors))  # <class 'list'>\n",
    "#to add element(object) in  list at the end\n",
    "colors.append(\"yellow\")\n",
    "\n"
   ]
  },
  {
   "cell_type": "code",
   "execution_count": 15,
   "id": "cf7792b2-f86c-4829-a5ba-66ae4e0dc769",
   "metadata": {},
   "outputs": [
    {
     "data": {
      "text/plain": [
       "['red', 'blue', 'orange', 'yellow', 'brown', 'white']"
      ]
     },
     "execution_count": 15,
     "metadata": {},
     "output_type": "execute_result"
    }
   ],
   "source": [
    "#********************88function extend()**************\n",
    "#to add (list) in  list at the end \n",
    "colors.extend([\"brown\",\"white\"]) # can use update also بعمل توسيع بضيف  عناصر جديد في القائمه من قائمه تاني\n",
    "colors\n",
    "#"
   ]
  },
  {
   "cell_type": "code",
   "execution_count": 16,
   "id": "f19027cd-70a7-4f52-b0d1-5e1282f09c82",
   "metadata": {},
   "outputs": [
    {
     "data": {
      "text/plain": [
       "['red', 'blue', 'gray', 'orange', 'yellow', 'brown', 'white']"
      ]
     },
     "execution_count": 16,
     "metadata": {},
     "output_type": "execute_result"
    }
   ],
   "source": [
    "#**************** function insert()**************************\n",
    "#to add element(object) in  list with give position index\n",
    "colors.insert(2,\"gray\")\n",
    "colors"
   ]
  },
  {
   "cell_type": "markdown",
   "id": "c7211e58-f169-408b-816b-1064b216d154",
   "metadata": {},
   "source": [
    "*********************** TO REMOVE***********************"
   ]
  },
  {
   "cell_type": "code",
   "execution_count": 17,
   "id": "619d975d-0d01-46d9-81a4-a59ba8546bf0",
   "metadata": {},
   "outputs": [
    {
     "data": {
      "text/plain": [
       "[]"
      ]
     },
     "execution_count": 17,
     "metadata": {},
     "output_type": "execute_result"
    }
   ],
   "source": [
    "\n",
    "#pop() ---> remove element from list by its index \n",
    "#remove() --> remove element from list by element ## and if the element is duplicated in list the remove function delete the first element that's appear\n",
    "#del --> remove part  from list by( object[statr,end] indexs)\n",
    "#clear() --> remove all elements from lists\n",
    "\n",
    "colors           # ['red', 'blue', 'gray', 'orange', 'yellow', 'brown', 'white']\n",
    "colors.pop(2)\n",
    "del colors[0:2]          #['red', 'blue','orange', 'yellow', 'brown', 'white']\n",
    "colors.insert (5,\"brown\")\n",
    "colors           #['red', 'blue', 'orange', 'yellow', 'brown', 'brown', 'white']\n",
    "colors.remove(\"brown\")\n",
    "colors           #['red', 'blue', 'orange', 'yellow','brown', 'white']  \n",
    "del colors[0:2]\n",
    "colors           ##['orange','yellow', 'brown', 'white']\n",
    "colors.clear()\n",
    "colors           #[]\n"
   ]
  },
  {
   "cell_type": "markdown",
   "id": "d2160f09-4a29-4dcb-9208-5e5484f18e28",
   "metadata": {},
   "source": [
    "****************************TO FIND *************************"
   ]
  },
  {
   "cell_type": "code",
   "execution_count": 18,
   "id": "bc4af642-19c4-4829-bff4-8322637a3d4e",
   "metadata": {},
   "outputs": [
    {
     "name": "stdout",
     "output_type": "stream",
     "text": [
      "red , blue , orange , yellow , brown , brown , white\n"
     ]
    }
   ],
   "source": [
    "#index() --> to return the element's index & if the element not found in the list it return value error\n",
    "#to don't return error use if condition & if ele is متكرر هيرجع مكان اول عنصر\n",
    "#count()--> to return the number of the element appear in list or the number of element duplicated\n",
    "colors=['red', 'blue', 'orange', 'yellow', 'brown', 'brown', 'white']\n",
    "# print(colors.index('orange')) # 2\n",
    "# print(colors.index('gray'))  #  value error\n",
    "# if 'gray' in colors:\n",
    "#     print(colors.index('gray')) # no thing  هيتنفذ في حالة ان الشرط صحيح فقط\n",
    "# print(colors.count('brown'))    # 2\n",
    "#str.join() --> ربطعناصر القائمه ب , مثلا بدل ما تطلع اقواس\"\" كده لا هتطبع بالكوما عادي وشكلها يبقي حلو في حالة قائمه من string\n",
    "print(\" , \".join(colors))"
   ]
  },
  {
   "cell_type": "markdown",
   "id": "b8ac7be0-c6ec-4808-912f-8f18c72a3a75",
   "metadata": {},
   "source": [
    "********************  OTHER FUNCTION ***************"
   ]
  },
  {
   "cell_type": "code",
   "execution_count": 19,
   "id": "f601502a-f876-4ef6-8a52-a4bb69d42234",
   "metadata": {},
   "outputs": [
    {
     "data": {
      "text/plain": [
       "[0, 1, 2, 3, 4, 5, 6, 7, 8, 9, 10, 20]"
      ]
     },
     "execution_count": 19,
     "metadata": {},
     "output_type": "execute_result"
    }
   ],
   "source": [
    "#reverse() --> to reverse order of the number  بتعكس ترتيب العناصر في القائمه\n",
    "#sort() --> to order the element  بترتب العناصر والافتراضي تصاعدي\n",
    "#sort(reverse=True) ---> اعكس الافتراضي وخلي الترتيب تنازلي\n",
    "#copy() --> to copy the element from list to new list\n",
    "numbers=list(range(1,10+1))\n",
    "# numbers     \n",
    "# numbers.reverse()\n",
    "numbers.append(0)\n",
    "# numbers\n",
    "numbers.sort()\n",
    "# numbers.reverse() # بتعكس بتطبع من ورا لقدام الاماكن \n",
    "# numbers.sort(reverse=True)\n",
    "# numbers\n",
    "new_numbers=numbers.copy()\n",
    "new_numbers.append(20)\n",
    "new_numbers"
   ]
  },
  {
   "cell_type": "markdown",
   "id": "aca1985c-dede-4a18-a4d9-19474ac49f3f",
   "metadata": {},
   "source": [
    "*****************GENERAL FUNCTOIN to sring or numbers*****************\n",
    "\n",
    "يعني مش مخصصه لنوع واحد فقط زي مصفوفه او قائمه عادي تستخدم في كله"
   ]
  },
  {
   "cell_type": "code",
   "execution_count": 22,
   "id": "dc0fbd69-de9c-4933-8052-041688124d06",
   "metadata": {},
   "outputs": [
    {
     "name": "stdout",
     "output_type": "stream",
     "text": [
      "12\n",
      "0\n"
     ]
    },
    {
     "data": {
      "text/plain": [
       "[0, 1, 3, 3, 4, 5, 6, 7, 8, 9, 10, 20]"
      ]
     },
     "execution_count": 22,
     "metadata": {},
     "output_type": "execute_result"
    }
   ],
   "source": [
    "#len()--> the length of list or the number of element in list\n",
    "print(len(new_numbers)) #12\n",
    "print(min(new_numbers)) #0\n",
    "#print(max(new_numbers)) #20\n",
    "#to replace element by elelment in list  لتبديل عنصر بواسطة عنصر\n",
    "new_numbers[2]=3\n",
    "new_numbers"
   ]
  },
  {
   "cell_type": "markdown",
   "id": "f83e99e1-595c-487d-bb5e-cc226f3bd064",
   "metadata": {},
   "source": [
    "******************NASTED LIST******************"
   ]
  },
  {
   "cell_type": "code",
   "execution_count": 23,
   "id": "42f956f7-f968-4b6f-9053-e056a35d7e30",
   "metadata": {},
   "outputs": [],
   "source": [
    "student=[\"shahd\",[70,80,90]] \n",
    "#student\n",
    "# student_mark=((student[1][0]+student[1][1]+student[1][2])*2)/4\n",
    "# student_mark\n",
    "#student[0]  #shahd\n",
    "#student[1][0] #70\n",
    "#student[1][2] #90"
   ]
  },
  {
   "cell_type": "markdown",
   "id": "d70d9ce8-b9b8-4833-b8cb-1821e140eadb",
   "metadata": {},
   "source": [
    "***********ِARRAYS***********\n",
    "\n",
    "-array ---> تخزن اعداد او حروف,بعندها القيم من نفس النوع فقط لا تقبل انواع مختلفه  وبتاخد مساحه اقل وبتوفر اداء اعلا\n",
    "\n",
    "\n",
    "-list ----> تقبل قيم من انواع مختلفه بس بتاخد مساحه كبيرة واقل اداء من المصفوفات"
   ]
  },
  {
   "cell_type": "code",
   "execution_count": 24,
   "id": "c6833639-b522-49c4-bc46-d2f4df6cda0e",
   "metadata": {},
   "outputs": [
    {
     "name": "stdout",
     "output_type": "stream",
     "text": [
      "[100, 93, 84, 77, 62, 58]\n"
     ]
    }
   ],
   "source": [
    "from array import array\n",
    "scores=array(\"i\",[60,84,45,100,77,93]) #\"i\"--> typecode=integer\n",
    "#scores=[60,84,45,100,77,93] --> this list\n",
    "scores[0]=62 #return error when inter 62.1 (float)\n",
    "#scores[0:3]\n",
    "scores.append(58)\n",
    "scores.pop(2)\n",
    "#print(max(scores))\n",
    "print(sorted(scores,reverse=True)) #sorted  is general function\n",
    "#scores\n"
   ]
  },
  {
   "cell_type": "markdown",
   "id": "7b316793-a6ed-466b-b598-31beeb83d1a7",
   "metadata": {},
   "source": [
    "*****TUPLES صفوف*****"
   ]
  },
  {
   "cell_type": "code",
   "execution_count": 25,
   "id": "25664a51-7f44-4264-b5d2-361af3f031db",
   "metadata": {},
   "outputs": [
    {
     "name": "stdout",
     "output_type": "stream",
     "text": [
      "blow\n"
     ]
    }
   ],
   "source": [
    "import math\n",
    "from random import choice # اختيار عنصر عشوائي\n",
    "#like lists but diff about it thaht tuples immutable غير قابله لتغيير بستخدها في حالة بيانات ثابته مش محتاجه اغيرها بل اوصلها فقط\n",
    "#تحتفظ بترتيب العناصر ولا يدعم تحديث القيم\n",
    "#tuple=(x,y) contain diff data type\n",
    "#p=(2,3)\n",
    "#p=2,3\n",
    "# if want to convert to tuple\n",
    "rgp_color=tuple([\"red\",\"blow\",\"yellow\"])\n",
    "# rgp_color\n",
    "print(choice(rgp_color))\n",
    "#p=(9,) لو هدخل في الصف قيمه واحده بعمل فصله وبسيبها فاضيه\n",
    "# a=(2,5)\n",
    "# b=(3,-2)\n",
    "# distance=math.sqrt((b[0]-a[0])**2 + (b[1]-a[1])**2)\n",
    "# print(f\"distance=   {distance:.2f} \")\n",
    "#p\n"
   ]
  },
  {
   "cell_type": "code",
   "execution_count": 26,
   "id": "b289e687-97ee-4743-8605-248f95012560",
   "metadata": {},
   "outputs": [],
   "source": [
    "#unpacking tuples تفكيك المتعدده\n",
    "numbers =(1,2,3) # لازم عدد القيم يساوي عدد المغيرات\n",
    "x,y,z=numbers\n"
   ]
  },
  {
   "cell_type": "code",
   "execution_count": 27,
   "id": "cadaf9f7-ae18-4edc-a976-6cabf5904ebf",
   "metadata": {},
   "outputs": [],
   "source": [
    "#swping values\n",
    "x,y=2,3\n",
    "x,y=y,x\n"
   ]
  },
  {
   "cell_type": "code",
   "execution_count": 28,
   "id": "a6d03a0e-987a-488a-a66c-03bc05b15d49",
   "metadata": {},
   "outputs": [
    {
     "data": {
      "text/plain": [
       "(1, 2, 3, 4, 5)"
      ]
     },
     "execution_count": 28,
     "metadata": {},
     "output_type": "execute_result"
    }
   ],
   "source": [
    "#convert list to tuples\n",
    "numbers=[1,2,3,4,5]\n",
    "tuple_number=tuple(numbers)\n",
    "tuple_number"
   ]
  },
  {
   "cell_type": "markdown",
   "id": "a8263511-5d7a-44b6-b24f-20eee964e06b",
   "metadata": {},
   "source": [
    "****SETS****"
   ]
  },
  {
   "cell_type": "code",
   "execution_count": 29,
   "id": "b1e29137-c9db-447e-aef8-679389a2feb8",
   "metadata": {},
   "outputs": [],
   "source": [
    "#set {} مجموعه من العناصر غير مرتبه وغير مكررة\n",
    "#set() to create emty set and not use {} because it use also to craete tuple\n",
    "colors={\"red\",\"blue\",\"yellow\"}  #==colors=set([\"red\",\"blue\",\"yellow\"])\n",
    "#index لا تستخدم معاها لان عناصرها غير مرتبه فمش هعرف اوصل للعناصر بسهوله\n",
    "#كمان بتخزن قيم غير قابله للتغيير زي الtuple    --> immutable\n",
    "#immutable -->int, float ,string, tuple\n",
    "#mutable-----> set,list ,array, dict\n",
    "#data={2,6.4,\"python\",[1,2,3]} #get error bec list is mutable\n",
    "\n"
   ]
  },
  {
   "cell_type": "markdown",
   "id": "09428b0b-0bda-41f1-8dfe-05f7b2e1b17d",
   "metadata": {},
   "source": [
    "*operators with set*"
   ]
  },
  {
   "cell_type": "code",
   "execution_count": 30,
   "id": "ea796947-9a82-4332-8c21-c776b184685e",
   "metadata": {},
   "outputs": [],
   "source": [
    "#union--> (|)  بيجمع المجموعتين  مع عدم تكرار العناصر\n",
    "#intersection---> (&) بيرجع الموجود في الاتنين \n",
    "#difference --->(-) بيرجع الفرق بين المجموعتين \n",
    "#symmetric difference --->(^) هيرجع الاتحاد ناقص التقاطع\n",
    "#membership -->(in ,not in) بترجع T or F\n",
    "#comparison --->(== ,=! ,< ,> ,<=,>=) \n",
    "#Augmented assignment -->(&=,-=,^=,|=) #x&=y---> x=x&y"
   ]
  },
  {
   "cell_type": "code",
   "execution_count": 31,
   "id": "38f20856-e893-4972-ae7c-bd05008320c0",
   "metadata": {},
   "outputs": [],
   "source": [
    "data_scientist={\"Git\",\"SQL\",\"R\",\"Python\"}\n",
    "data_engineer={\"Hadoop\",\"Git\",\"SQL\",\"Scala\",\"Java\",\"Python\"}\n",
    "#data_scientist.add(\"SAS\")\n",
    "#data_engineer.remove(\"Scala\")\n",
    "#print(len(data_engineer))\n",
    "#print(data_scientist&data_engineer)\n",
    "#print(data_scientist & data_engineer)\n",
    "#print(data_scientist.intersection(data_engineer))\n",
    "#my_skills={\"SQL\",\"Python\"}\n",
    "#print(my_skills.issubset(data_scientist))\n",
    "#print(my_skills <= (data_scientist))\n",
    "#data_scientist\n",
    "#data_engineer"
   ]
  },
  {
   "cell_type": "markdown",
   "id": "5172c800-ae8d-40a9-a310-021e714ea71e",
   "metadata": {},
   "source": [
    "******************SET FUNCTION******************"
   ]
  },
  {
   "cell_type": "code",
   "execution_count": 32,
   "id": "ed8b95b8-6eaa-4482-91c4-ecbde32305f2",
   "metadata": {},
   "outputs": [],
   "source": [
    "animals=set([\"cat\",\"dog\",\"camel\",\"hen\",\"wolf\",\"cat\"])#يحذف تلقائي العناصر المتكررة المجموعات\n",
    "wild_animals={\"lion\",\"wolf\",\"elephant\"}"
   ]
  },
  {
   "cell_type": "markdown",
   "id": "e41599ed-f89b-496d-8f29-411d5777dddd",
   "metadata": {},
   "source": [
    "*TO ADD*"
   ]
  },
  {
   "cell_type": "code",
   "execution_count": 33,
   "id": "f30f3980-0f65-40a6-9b81-af6d2092e122",
   "metadata": {},
   "outputs": [
    {
     "data": {
      "text/plain": [
       "{'camel', 'cat', 'dog', 'donky', 'elephant', 'hen', 'lion', 'wolf'}"
      ]
     },
     "execution_count": 33,
     "metadata": {},
     "output_type": "execute_result"
    }
   ],
   "source": [
    "animals.add(\"donky\")\n",
    "animals.update(wild_animals)#update elso to add list \n",
    "animals"
   ]
  },
  {
   "cell_type": "markdown",
   "id": "42d91289-c3f6-452a-a326-f845c9ea5167",
   "metadata": {},
   "source": [
    "*TO REMOVE*"
   ]
  },
  {
   "cell_type": "code",
   "execution_count": 34,
   "id": "b7c23702-3dd7-484f-916a-cddf7a9608c0",
   "metadata": {},
   "outputs": [
    {
     "data": {
      "text/plain": [
       "set()"
      ]
     },
     "execution_count": 34,
     "metadata": {},
     "output_type": "execute_result"
    }
   ],
   "source": [
    "#animals.remove(\"wolf\") #return error when the element is not in set\n",
    "#animals.discard(\"panana\")# like remove but not return error when the element  is not in set\n",
    "#animals.pop() #to remove element from set Randomly\n",
    "animals.clear()#remove all element from set\n",
    "animals"
   ]
  },
  {
   "cell_type": "markdown",
   "id": "393f8ed0-a923-43e7-97b8-749d716e1c3d",
   "metadata": {},
   "source": [
    "*TO CHECK*"
   ]
  },
  {
   "cell_type": "code",
   "execution_count": 35,
   "id": "faa849e1-253b-45da-948a-489d3e61886e",
   "metadata": {},
   "outputs": [],
   "source": [
    "domestic_animals={\"cat\",\"dog\",\"camel\"}\n",
    "#print(domestic_animals.issubset(animals))\n",
    "#print(domestic_animals.issuperset(animals))\n",
    "#print(domestic_animals.isdisjoint(wild_animals))"
   ]
  },
  {
   "cell_type": "markdown",
   "id": "708cd871-bd13-4de9-8dfc-1207fcc00951",
   "metadata": {},
   "source": [
    "*OPERATIONS*"
   ]
  },
  {
   "cell_type": "code",
   "execution_count": 36,
   "id": "d02f943a-2dd4-44e4-9415-d157b8b8d7b2",
   "metadata": {},
   "outputs": [
    {
     "name": "stdout",
     "output_type": "stream",
     "text": [
      "{1, 2, 3, 6, 7, 8}\n"
     ]
    }
   ],
   "source": [
    "#when we want to store element when use function opperation use with them _update\n",
    "a={1,2,3,4,5}\n",
    "b={4,5,6,7,8}\n",
    "#print(a.union(b))\n",
    "#print(a.intersection(b)) #a.itersection(b)\n",
    "#print(a.intersection_update(b)) #store at a the intersection\n",
    "#a#{4,5}\n",
    "#print(a.difference(b))\n",
    "print(a.symmetric_difference (b)) #a^b  هيرجع الاتحاد ناقص التقاطع"
   ]
  },
  {
   "cell_type": "markdown",
   "id": "f5db92ba-244a-424d-bc5e-0f509bc9854d",
   "metadata": {},
   "source": [
    "*PYTHON FROZENSET*"
   ]
  },
  {
   "cell_type": "code",
   "execution_count": 37,
   "id": "0a5f4dbb-bada-49de-882e-9a35f8d05e17",
   "metadata": {},
   "outputs": [
    {
     "name": "stdout",
     "output_type": "stream",
     "text": [
      "frozenset({'e', 'c', 'o', 'a', 'b', 'i', 'u', 'd'})\n"
     ]
    },
    {
     "data": {
      "text/plain": [
       "frozenset({'a', 'e', 'i', 'o', 'u'})"
      ]
     },
     "execution_count": 37,
     "metadata": {},
     "output_type": "execute_result"
    }
   ],
   "source": [
    "#FROZENSET ---> مجموعه ثابته لايمكن اضافه او حذف اي عنصر  منها\n",
    "#بس ممكن نستخدم الدوال اللي مش بتغير في العناصر زي حذف اضافه تعديل ونستخدم مثلا الاتحاد والتقاطع\n",
    "vowels=frozenset([\"a\",\"e\",\"i\",\"o\",\"u\"])\n",
    "print(vowels.union([\"b\",\"c\",\"d\"]))\n",
    "vowels"
   ]
  },
  {
   "cell_type": "raw",
   "id": "f25e1127-73b0-4fcd-baa5-2f8d821b4ecc",
   "metadata": {},
   "source": []
  },
  {
   "cell_type": "markdown",
   "id": "4bc7d4ae-321f-4f59-a358-d79d1db3b158",
   "metadata": {},
   "source": [
    "*************************DICTIONARIES*************************"
   ]
  },
  {
   "cell_type": "code",
   "execution_count": 38,
   "id": "5f1d79dd-491c-4bff-8109-3c9b278b3cfe",
   "metadata": {},
   "outputs": [
    {
     "data": {
      "text/plain": [
       "'Bilal'"
      ]
     },
     "execution_count": 38,
     "metadata": {},
     "output_type": "execute_result"
    }
   ],
   "source": [
    "# use immutable data type --> int, float, string,tuple,bool\n",
    "#key ---> value\n",
    "#access by key\n",
    "#.get()--->علشان لو ملقتش القيمه متطلعش ايرور\n",
    "player={\n",
    "    \"name\":\"Bilal\",\n",
    "    \"country\":\"egypt\",\n",
    "    \"score\":86\n",
    "}\n",
    "#to access\n",
    "player[\"country\"]\n",
    "player.get(\"name\")# "
   ]
  },
  {
   "cell_type": "code",
   "execution_count": 39,
   "id": "5c0613ef-f01c-4975-8e4c-4771ac4a882b",
   "metadata": {},
   "outputs": [
    {
     "name": "stdout",
     "output_type": "stream",
     "text": [
      "{'amal': 20102103, 'nour': 22100305, 'shahd': 55700107, 'zied': 52300105}\n"
     ]
    }
   ],
   "source": [
    "contacts={\"zied\":50200201\n",
    "          ,\"nour\":22100305\n",
    "          ,\"omar\":95450500\n",
    "          ,\"shahd\":55700107\n",
    "         }\n",
    "#contacts[\"nour\"]\n",
    "#contacts.get(\"imal\",\"name not found\")# مش بتظهر ايرور لو ملقتش العنصر بتظهر القيمه الافتراضيه اللي بديهالها او مافيش\n",
    "contacts[\"zied\"]=52300105 #when add we can use this way\n",
    "contacts[\"amal\"]=20102103\n",
    "#contacts.update({\"amal\":20102103})\n",
    "contacts.pop(\"omar\")\n",
    "contacts.keys()# get th keys\n",
    "contacts.values() #get the values\n",
    "contacts.items() # get all items in dic\n",
    "print(dict(sorted(contacts.items())))\n",
    "e2=contacts.copy()\n",
    "#contacts"
   ]
  },
  {
   "cell_type": "code",
   "execution_count": 40,
   "id": "d789ebdd-d3b5-468f-9c1a-8d6f8244578a",
   "metadata": {},
   "outputs": [
    {
     "name": "stdin",
     "output_type": "stream",
     "text": [
      "Enter your user name:  8399780750\n",
      "Enter your password:  69970\n"
     ]
    },
    {
     "name": "stdout",
     "output_type": "stream",
     "text": [
      "usre not found\n"
     ]
    }
   ],
   "source": [
    "users={\"user1\":123123,\n",
    "      \"user2\":700350,\n",
    "      \"user3\":444555}\n",
    "username=input(\"Enter your user name: \")\n",
    "password=int(input(\"Enter your password: \"))\n",
    "if username in users:\n",
    "     if password ==users[username]:\n",
    "            print(\"user has been identified\")\n",
    "     else:\n",
    "         print(\"enter correct pass\")\n",
    "else:\n",
    "    print(\"usre not found\")\n",
    "    \n",
    "     "
   ]
  },
  {
   "cell_type": "code",
   "execution_count": 47,
   "id": "b9281bbd-5d33-4f5f-aa6b-1ae057c54029",
   "metadata": {},
   "outputs": [
    {
     "name": "stdin",
     "output_type": "stream",
     "text": [
      " Enter the new product?  coffee\n",
      "Enter the price of the product?  50\n",
      " Enter the new product?  \n"
     ]
    },
    {
     "name": "stdout",
     "output_type": "stream",
     "text": [
      "{'coffee': 50}\n"
     ]
    }
   ],
   "source": [
    "#create empty dic and append the elements by input user\n",
    "#store the last value written\n",
    "products={}\n",
    "while True:\n",
    "    new_product=input(\" Enter the new product? \")\n",
    "    if new_product:\n",
    "        if new_product in products:\n",
    "            print(f\"I alraedy have {new_product} \")\n",
    "        else:    \n",
    "             products[new_product]=int(input(\"Enter the price of the product? \"))\n",
    "        \n",
    "    else:\n",
    "        break      \n",
    "print(products)"
   ]
  },
  {
   "cell_type": "code",
   "execution_count": 48,
   "id": "efa66f47-30f9-4211-8be2-5ac8f901ed43",
   "metadata": {},
   "outputs": [
    {
     "name": "stdout",
     "output_type": "stream",
     "text": [
      "dict_keys(['coffee'])\n",
      "dict_values([50])\n"
     ]
    }
   ],
   "source": [
    "print(products.keys())\n",
    "print(products.values())"
   ]
  },
  {
   "cell_type": "markdown",
   "id": "f64d4335-9625-4670-9ecb-d17e5c4a36b6",
   "metadata": {},
   "source": [
    "**to print the items of dic**"
   ]
  },
  {
   "cell_type": "code",
   "execution_count": 49,
   "id": "c4fe2537-b8a2-405f-a6a6-c2035f549508",
   "metadata": {},
   "outputs": [
    {
     "name": "stdout",
     "output_type": "stream",
     "text": [
      "coffee         :  50\n"
     ]
    }
   ],
   "source": [
    "#to print the items of dic\n",
    "for item in products: #item-->key  , products[item]--->value\n",
    "    print(f\"{item:15}: {products[item]:3}\")"
   ]
  },
  {
   "cell_type": "code",
   "execution_count": 50,
   "id": "0e18621e-1af2-4386-bfec-890e783707a0",
   "metadata": {},
   "outputs": [
    {
     "name": "stdout",
     "output_type": "stream",
     "text": [
      "brand           is of type str\n",
      "color           is of type list\n",
      "automatic       is of type bool\n",
      "warranty        is of type tuple\n",
      "year            is of type int\n"
     ]
    }
   ],
   "source": [
    "#diff data type of dic\n",
    "properties={\"brand\":\"Toyota\",\n",
    "       \"color\":[\"red\",\"white\",\"yellow\"],\n",
    "       \"automatic\":True,\n",
    "       \"warranty\":(5,10),#ضمان\n",
    "        \"year\":2012   \n",
    "}\n",
    "for item in properties:\n",
    "    print(f\"{item:15} is of type {type(properties[item]).__name__ }\")"
   ]
  },
  {
   "cell_type": "markdown",
   "id": "9e8c7929-416e-49f7-8778-257e31ab4688",
   "metadata": {},
   "source": [
    "**to append new dic**"
   ]
  },
  {
   "cell_type": "code",
   "execution_count": 51,
   "id": "c57f0558-009a-4db6-9f1c-38482fd7d509",
   "metadata": {},
   "outputs": [
    {
     "data": {
      "text/plain": [
       "{'brand': 'Toyota',\n",
       " 'color': ['red', 'white', 'yellow'],\n",
       " 'automatic': True,\n",
       " 'warranty': (5, 15),\n",
       " 'year': 2025,\n",
       " 'price': 100000000}"
      ]
     },
     "execution_count": 51,
     "metadata": {},
     "output_type": "execute_result"
    }
   ],
   "source": [
    "#to append new dic\n",
    "new_properties={\n",
    "    \"price\":100000000,\n",
    "    \"year\":2025,\n",
    "    \"warranty\":(5,15),   \n",
    "}\n",
    "properties.update(new_properties)\n",
    "properties"
   ]
  },
  {
   "cell_type": "markdown",
   "id": "ea12acb9-44e3-4462-ae2d-f17fe6460e60",
   "metadata": {},
   "source": [
    "**delete a dic item**"
   ]
  },
  {
   "cell_type": "code",
   "execution_count": 52,
   "id": "3887eb06-e143-4712-904b-0b2704bb5316",
   "metadata": {},
   "outputs": [
    {
     "data": {
      "text/plain": [
       "{'brand': 'Toyota',\n",
       " 'color': ['red', 'white', 'yellow'],\n",
       " 'automatic': True,\n",
       " 'warranty': (5, 15),\n",
       " 'year': 2025,\n",
       " 'price': 100000000}"
      ]
     },
     "execution_count": 52,
     "metadata": {},
     "output_type": "execute_result"
    }
   ],
   "source": [
    "#popitem() --> بتزيل اخر عنصر تم اضافته \n",
    "#del(key),pop(key)---> نفس الوظيفه\n",
    "#properties.pop(\"color\")\n",
    "#del(properties[\"color\"])\n",
    "#properties.popitem()\n",
    "#properties.clear()\n",
    "properties"
   ]
  },
  {
   "cell_type": "markdown",
   "id": "c8728086-a60c-45fe-ab73-c93cbfe1d7dc",
   "metadata": {},
   "source": [
    "**************LOOPS**************"
   ]
  },
  {
   "cell_type": "markdown",
   "id": "0d7fc432-c49a-4bfe-82a8-564f781a39e6",
   "metadata": {},
   "source": [
    "*WHILE LOOP*"
   ]
  },
  {
   "cell_type": "code",
   "execution_count": 53,
   "id": "1c0175be-5d5d-4ed1-9e21-5e6921cc9730",
   "metadata": {},
   "outputs": [
    {
     "name": "stdout",
     "output_type": "stream",
     "text": [
      "1\n",
      "3\n",
      "5\n",
      "7\n",
      "9\n"
     ]
    }
   ],
   "source": [
    "a=1\n",
    "while a<10:\n",
    "    print(a)\n",
    "    a=a+2\n",
    "\n",
    "\n",
    "   "
   ]
  },
  {
   "cell_type": "code",
   "execution_count": 54,
   "id": "3545cd7c-806b-4d8f-a9e0-695f7589dedf",
   "metadata": {},
   "outputs": [
    {
     "name": "stdin",
     "output_type": "stream",
     "text": [
      "enter the positive num:  6\n",
      "enter the positive num:  6\n",
      "enter the positive num:  7\n",
      "enter the positive num:  8\n",
      "enter the positive num:  8\n",
      "enter the positive num:  -1\n"
     ]
    },
    {
     "name": "stdout",
     "output_type": "stream",
     "text": [
      "the sum =35\n"
     ]
    }
   ],
   "source": [
    "sum=0\n",
    "a=int(input(\"enter the positive num: \"))\n",
    "while a>=0:\n",
    "   sum+=a\n",
    "   a=int(input(\"enter the positive num: \"))\n",
    "print(f\"the sum ={sum}\")\n",
    "        "
   ]
  },
  {
   "cell_type": "code",
   "execution_count": 55,
   "id": "066492cb-2b56-4db5-879a-a0082a1f4f47",
   "metadata": {},
   "outputs": [
    {
     "name": "stdin",
     "output_type": "stream",
     "text": [
      "enter the name:  shahd\n"
     ]
    },
    {
     "name": "stdout",
     "output_type": "stream",
     "text": [
      "['shahd']\n"
     ]
    },
    {
     "name": "stdin",
     "output_type": "stream",
     "text": [
      "enter the name:  mona\n"
     ]
    },
    {
     "name": "stdout",
     "output_type": "stream",
     "text": [
      "['mona', 'shahd']\n"
     ]
    },
    {
     "name": "stdin",
     "output_type": "stream",
     "text": [
      "enter the name:  salma\n"
     ]
    },
    {
     "name": "stdout",
     "output_type": "stream",
     "text": [
      "['mona', 'salma', 'shahd']\n"
     ]
    },
    {
     "name": "stdin",
     "output_type": "stream",
     "text": [
      "enter the name:  quit\n"
     ]
    },
    {
     "name": "stdout",
     "output_type": "stream",
     "text": [
      "['mona', 'salma', 'shahd']\n"
     ]
    }
   ],
   "source": [
    "names=[]\n",
    "name=input(\"enter the name: \")\n",
    "while name.lower()!=\"quit\":\n",
    "    names.append(name)\n",
    "    names.sort()\n",
    "    print(names)\n",
    "    name=input(\"enter the name: \")\n",
    "else:\n",
    "    names.sort()\n",
    "    print(names)"
   ]
  },
  {
   "cell_type": "markdown",
   "id": "92a9a698-67a7-4b9f-b8c3-556618ac346b",
   "metadata": {},
   "source": [
    "*infinite loop*"
   ]
  },
  {
   "cell_type": "code",
   "execution_count": 56,
   "id": "17630aca-9a06-47f2-8baa-f3cfaadb5f21",
   "metadata": {},
   "outputs": [
    {
     "name": "stdout",
     "output_type": "stream",
     "text": [
      "you'r learning\n",
      "you'r learning\n",
      "you'r learning\n",
      "you'r learning\n",
      "you'r learning\n",
      "you'r learning\n",
      "you'r learning\n",
      "you'r learning\n",
      "you'r learning\n",
      "you'r learning\n"
     ]
    }
   ],
   "source": [
    "is_learning=True\n",
    "counter=1\n",
    "while counter <=10:\n",
    "    print(\"you'r learning\")\n",
    "    counter+=1"
   ]
  },
  {
   "cell_type": "markdown",
   "id": "68aebfb1-3440-40f8-8139-ae095a2487b9",
   "metadata": {},
   "source": [
    "************FOOR LOOP************"
   ]
  },
  {
   "cell_type": "code",
   "execution_count": 58,
   "id": "4797d106-6dc2-45ca-bcd1-5dbcfce5f626",
   "metadata": {},
   "outputs": [
    {
     "name": "stdin",
     "output_type": "stream",
     "text": [
      "Enter the number:  7\n"
     ]
    },
    {
     "name": "stdout",
     "output_type": "stream",
     "text": [
      "7 * 1 = 7\n",
      "7 * 2 = 14\n",
      "7 * 3 = 21\n",
      "7 * 4 = 28\n",
      "7 * 5 = 35\n",
      "7 * 6 = 42\n",
      "7 * 7 = 49\n",
      "7 * 8 = 56\n",
      "7 * 9 = 63\n",
      "7 * 10 = 70\n"
     ]
    }
   ],
   "source": [
    "#any type of objects in python can use loop called iterable قابل للتكرار\n",
    "#for var in iterable:#iterable---> include(int,str,float,tuple,set,list,dict,array,range)\n",
    "number=int(input(\"Enter the number: \"))\n",
    "for i in range(1,11):\n",
    "    print(f\"{number} * {i} = {i*number}\")\n",
    "    \n"
   ]
  },
  {
   "cell_type": "code",
   "execution_count": 59,
   "id": "11a68c53-ca0d-40b0-ad36-ff0f10268079",
   "metadata": {},
   "outputs": [],
   "source": [
    "students={\"Bilel\":87,\n",
    "         \"Zied\":45,\n",
    "         \"Nour\":69,\n",
    "         \"Omar\":93,\n",
    "         \"Sara\":56 }\n",
    "#first method\n",
    "# for i in students: #i==keys     \n",
    "#     if students[i]>60:\n",
    "#         print(f\"{i:13}: {students[i]:3}\")\n",
    "#second method\n",
    "# for name,avarage in students.item())\n",
    "#     if avarage>=60:\n",
    "#         print(name,avarage)#\n",
    "\n",
    "\n",
    "\n",
    "\n",
    "#\n"
   ]
  },
  {
   "cell_type": "code",
   "execution_count": 60,
   "id": "1022ce7c-ace2-48fe-9ddd-aff09442b579",
   "metadata": {},
   "outputs": [
    {
     "name": "stdout",
     "output_type": "stream",
     "text": [
      "('Bilel', 87)\n",
      "('Nour', 69)\n",
      "('Omar', 93)\n"
     ]
    }
   ],
   "source": [
    "#third method\n",
    "for item in students.items(): #item---> tuple\n",
    "    if item[1]>=60:\n",
    "        print(item)"
   ]
  },
  {
   "cell_type": "code",
   "execution_count": 66,
   "id": "c577c041-e4c9-480a-ace6-89867e258fce",
   "metadata": {},
   "outputs": [
    {
     "name": "stdout",
     "output_type": "stream",
     "text": [
      "***************menu*******************\n",
      "pizza: 10 $\n",
      "humburger: 5 $\n",
      "chicken: 8 $\n",
      "shawarma: 7 $\n",
      "fries: 1.5 $\n",
      "****************************************\n"
     ]
    },
    {
     "name": "stdin",
     "output_type": "stream",
     "text": [
      "Enter the number of dishs:  2\n",
      "Choose the dish from the menu: humburger\n",
      "Enter the quantity:  2\n",
      "Choose the dish from the menu: pizza\n",
      "Enter the quantity:  3\n"
     ]
    },
    {
     "name": "stdout",
     "output_type": "stream",
     "text": [
      "-----------------------------\n",
      "you has chosen: \n",
      "humburger : 2\n",
      "pizza : 3\n",
      "The total price of your order is: 40 $\n"
     ]
    }
   ],
   "source": [
    "#restaurant management \n",
    "import math\n",
    "menu={\"pizza\":10,\n",
    "      \"humburger\":5,\n",
    "      \"chicken\":8,\n",
    "      \"shawarma\":7,\n",
    "      \"fries\":1.5   \n",
    "}\n",
    "print(f\"***************menu*******************\")\n",
    "for dish_name in menu:\n",
    "    print(f\"{dish_name:5}: {menu[dish_name]} $\")\n",
    "print(f\"****************************************\")\n",
    "number=int(input(\"Enter the number of dishs: \"))\n",
    "order=[]\n",
    "for count in range(number):\n",
    "    dish={}\n",
    "    dish[\"name\"]=input(\"Choose the dish from the menu:\")\n",
    "    dish[\"quantity\"] =int(input(\"Enter the quantity: \"))\n",
    "    order.append(dish)   #\n",
    "       # print(order)\n",
    "print(\"-----------------------------\")\n",
    "print(\"you has chosen: \")\n",
    "total=0\n",
    "for dish in order:\n",
    "    print(f\"{dish[\"name\"]} : {dish[\"quantity\"]}\")\n",
    "    total=total+dish[\"quantity\"]*menu[dish[\"name\"]]\n",
    "print(f\"The total price of your order is: {total} $\")"
   ]
  },
  {
   "cell_type": "code",
   "execution_count": 67,
   "id": "525725ff-a3d9-4c97-a213-6136d58caf75",
   "metadata": {},
   "outputs": [
    {
     "name": "stdout",
     "output_type": "stream",
     "text": [
      "1 - shahd \n",
      "2 - mona \n",
      "3 - ali \n",
      "4 - farah \n",
      "5 - sami \n"
     ]
    }
   ],
   "source": [
    "names={\"shahd\",\"sami\",\"mona\",\"ali\",\"farah\"}\n",
    "#for element in enumerate(names):#enumerate---> بترجع العناصر مع اضافة مكان  وجوده في القائمه علي شكل tuple \n",
    "#    print(element)\n",
    "for counter,name in enumerate(names,start=1):\n",
    "    print(f\"{counter} - {name} \")\n",
    "    "
   ]
  },
  {
   "cell_type": "markdown",
   "id": "e925de61-a910-481d-9568-40503d39c091",
   "metadata": {},
   "source": [
    "**************************************for loop vs while loop**************************************"
   ]
  },
  {
   "cell_type": "code",
   "execution_count": 68,
   "id": "a1cf85f5-3e0f-46ee-998c-622c693c2d29",
   "metadata": {},
   "outputs": [],
   "source": [
    "#for----> use when the number of iterations is known \n",
    "#while---->use when the number of iterations is unknown and it stoped in case condition "
   ]
  },
  {
   "cell_type": "code",
   "execution_count": 69,
   "id": "9eae5762-6f7b-41fe-93c1-b11300808dad",
   "metadata": {},
   "outputs": [],
   "source": [
    "#break--->لتوقف عند خطوة ما\n",
    "#continue--> لتجاهل خظوة ما وتكملة الوب عادي بيعملها سكيب ويكمل\n",
    "#pass-->علشان لما مكملش اللوب ميطلعش ايرور في باقي الكود بيخلي النظام ميشوفش اللوب"
   ]
  },
  {
   "cell_type": "code",
   "execution_count": 70,
   "id": "dcb4351d-2c4e-43ef-afa0-35b6e395eae7",
   "metadata": {},
   "outputs": [
    {
     "name": "stdout",
     "output_type": "stream",
     "text": [
      "faulty\n"
     ]
    }
   ],
   "source": [
    "#break\n",
    "watches=[\"ok\",\"ok\",\"ok\",\"faulty\",\"ok\",\"ok\"]\n",
    "for i in watches:\n",
    "    if i==\"faulty\":\n",
    "       # break\n",
    "        #continue \n",
    "     print(i)\n",
    "\n",
    "     "
   ]
  },
  {
   "cell_type": "code",
   "execution_count": 82,
   "id": "8dfa6da0-4d61-4571-96fa-d02f187c5542",
   "metadata": {},
   "outputs": [
    {
     "name": "stdin",
     "output_type": "stream",
     "text": [
      "Enter your password:  jffjn\n"
     ]
    },
    {
     "name": "stdout",
     "output_type": "stream",
     "text": [
      "Incorrect password\n"
     ]
    },
    {
     "name": "stdin",
     "output_type": "stream",
     "text": [
      "Enter your password:  ejnojn\n"
     ]
    },
    {
     "name": "stdout",
     "output_type": "stream",
     "text": [
      "Incorrect password\n"
     ]
    },
    {
     "name": "stdin",
     "output_type": "stream",
     "text": [
      "Enter your password:  onigo\n"
     ]
    },
    {
     "name": "stdout",
     "output_type": "stream",
     "text": [
      "Incorrect password\n",
      "No more attempts\n"
     ]
    }
   ],
   "source": [
    "stored_pass = \"shahd123\"\n",
    "attempts = 3\n",
    "\n",
    "for i in range(attempts):\n",
    "    password = input(\"Enter your password: \")\n",
    "    if password == stored_pass:\n",
    "        print(\"Correct password\")\n",
    "        break\n",
    "    else:\n",
    "        print(\"Incorrect password\")\n",
    "else:\n",
    "    print(\"No more attempts\")\n"
   ]
  },
  {
   "cell_type": "code",
   "execution_count": 84,
   "id": "2bfbb857-d259-41e8-9073-4c0785661f7d",
   "metadata": {},
   "outputs": [
    {
     "name": "stdout",
     "output_type": "stream",
     "text": [
      "coffee\n",
      "juice\n",
      "milk\n",
      "soda\n",
      "tea\n",
      "water\n"
     ]
    }
   ],
   "source": [
    "drinks=[\"coffee\",\"juice\",\"milk\",\"soda\",\"tea\",\"water\"]\n",
    "for drink in drinks:\n",
    "    print(drink)"
   ]
  },
  {
   "cell_type": "code",
   "execution_count": 85,
   "id": "39465032-2613-41f0-9907-48ed2e8b4a13",
   "metadata": {},
   "outputs": [
    {
     "name": "stdout",
     "output_type": "stream",
     "text": [
      "s\n",
      "h\n",
      "a\n",
      "h\n",
      "d\n",
      " \n",
      "m\n",
      "o\n",
      "a\n",
      "t\n",
      "a\n",
      "s\n",
      "e\n",
      "m\n"
     ]
    }
   ],
   "source": [
    "names=\"shahd moatasem\"\n",
    "for c in names:\n",
    "    print(c)"
   ]
  },
  {
   "cell_type": "code",
   "execution_count": 86,
   "id": "2a0610dd-29f9-4710-a5e5-1185674a0d05",
   "metadata": {},
   "outputs": [
    {
     "name": "stdout",
     "output_type": "stream",
     "text": [
      "0\n",
      "1\n",
      "2\n",
      "3\n",
      "4\n",
      "5\n",
      "6\n",
      "7\n",
      "8\n",
      "9\n"
     ]
    }
   ],
   "source": [
    "#to print numbers frm start to end we use the range\n",
    "for number in range(10):#start-->defult=0 & end--> defult=end-1  \n",
    "    print(number) #get 0:9\n"
   ]
  },
  {
   "cell_type": "code",
   "execution_count": 87,
   "id": "8554d346-eccb-4216-90c8-0131b6fe0a32",
   "metadata": {},
   "outputs": [
    {
     "name": "stdout",
     "output_type": "stream",
     "text": [
      "4\n",
      "6\n",
      "8\n",
      "10\n"
     ]
    }
   ],
   "source": [
    "for number in range(4,11,2): #range(start,end,step)  the step---> defult=1\n",
    "    print(number)"
   ]
  },
  {
   "cell_type": "code",
   "execution_count": 88,
   "id": "990e2476-dd74-4390-ab62-8a7d44061f6b",
   "metadata": {},
   "outputs": [
    {
     "name": "stdout",
     "output_type": "stream",
     "text": [
      "100\n",
      "90\n",
      "80\n",
      "70\n",
      "60\n",
      "50\n",
      "40\n",
      "30\n",
      "20\n",
      "10\n"
     ]
    }
   ],
   "source": [
    "for number in range(100,0,-10): #range(start,end,step)  the step---> defult=1\n",
    "    print(number)"
   ]
  },
  {
   "cell_type": "code",
   "execution_count": 91,
   "id": "757b0a8d-6f07-4c54-a8cc-c7e2e795f905",
   "metadata": {
    "scrolled": true
   },
   "outputs": [
    {
     "name": "stdin",
     "output_type": "stream",
     "text": [
      "Please guess a number:  3\n"
     ]
    },
    {
     "name": "stdout",
     "output_type": "stream",
     "text": [
      "Wrong guess, try again.\n"
     ]
    },
    {
     "name": "stdin",
     "output_type": "stream",
     "text": [
      "Please guess a number:  4\n"
     ]
    },
    {
     "name": "stdout",
     "output_type": "stream",
     "text": [
      "Wrong guess, try again.\n"
     ]
    },
    {
     "name": "stdin",
     "output_type": "stream",
     "text": [
      "Please guess a number:  5\n"
     ]
    },
    {
     "name": "stdout",
     "output_type": "stream",
     "text": [
      "Wrong guess, try again.\n"
     ]
    },
    {
     "name": "stdin",
     "output_type": "stream",
     "text": [
      "Please guess a number:  6\n"
     ]
    },
    {
     "name": "stdout",
     "output_type": "stream",
     "text": [
      "Wrong guess, try again.\n"
     ]
    },
    {
     "name": "stdin",
     "output_type": "stream",
     "text": [
      "Please guess a number:  7\n"
     ]
    },
    {
     "name": "stdout",
     "output_type": "stream",
     "text": [
      "Wrong guess, try again.\n"
     ]
    },
    {
     "name": "stdin",
     "output_type": "stream",
     "text": [
      "Please guess a number:  4\n"
     ]
    },
    {
     "name": "stdout",
     "output_type": "stream",
     "text": [
      "Wrong guess, try again.\n"
     ]
    },
    {
     "name": "stdin",
     "output_type": "stream",
     "text": [
      "Please guess a number:  2\n"
     ]
    },
    {
     "name": "stdout",
     "output_type": "stream",
     "text": [
      "Wrong guess, try again.\n"
     ]
    },
    {
     "name": "stdin",
     "output_type": "stream",
     "text": [
      "Please guess a number:  1\n"
     ]
    },
    {
     "name": "stdout",
     "output_type": "stream",
     "text": [
      "Correct guess! You win!\n"
     ]
    }
   ],
   "source": [
    "#guess game\n",
    "import random\n",
    "\n",
    "my_number = random.randint(1, 10)\n",
    "\n",
    "for i in range(10):\n",
    "    user_number = int(input(\"Please guess a number: \"))\n",
    "    if my_number == user_number:\n",
    "        print(\"Correct guess! You win!\")\n",
    "        break\n",
    "    else:\n",
    "        print(\"Wrong guess, try again.\")\n",
    "else:\n",
    "    print(f\"Sorry, you lost. The correct number was {my_number}\")\n"
   ]
  },
  {
   "cell_type": "code",
   "execution_count": 92,
   "id": "ab728c28-76b9-4c69-8d06-b82e7a1c5a2e",
   "metadata": {},
   "outputs": [
    {
     "name": "stdout",
     "output_type": "stream",
     "text": [
      "The drink is Coffee    : 25\n",
      "The drink is Juice     : 10\n",
      "The drink is Milk      : 32\n",
      "The drink is Soda      : 12\n"
     ]
    }
   ],
   "source": [
    "#continue --> skip an iteration \n",
    "drinks=[\"coffee\",\"juice\",\"water\",\"milk\",\"soda\",\"tea\"]\n",
    "prices=[25,10,3,32,12,5]\n",
    "free_drinks=[\"water\",\"tea\"]\n",
    "for i in range(len(drinks)):\n",
    "    if drinks[i] in free_drinks:\n",
    "        continue\n",
    "    else:\n",
    "            print(f\"The drink is {drinks[i].title():10}:{prices[i]:3}\") #:10 and :3 يعني سيب مسافه بالقدر ده\n",
    "    "
   ]
  },
  {
   "cell_type": "markdown",
   "id": "c11a36e6-f69b-4d7e-97c1-9777ee043ea1",
   "metadata": {},
   "source": [
    "*****************pass--> لا شيء يعني متعملش حاجة بتعمل بلوك للمكان لحين ما اصلح الغلط مثلا*****************"
   ]
  },
  {
   "cell_type": "code",
   "execution_count": 93,
   "id": "95075b6d-e33f-4a4f-9a0a-cc9943a8c9fa",
   "metadata": {},
   "outputs": [],
   "source": [
    "#pass--> لا شيء يعني متعملش حاجة بتعمل بلوك للمكان لحين ما اصلح الغلط مثلا\n",
    "#يعني لو كتبت for ومش هكتب شرط وهعديها فبكتبpass\n",
    "for i in range(1,10):\n",
    "    pass"
   ]
  },
  {
   "cell_type": "markdown",
   "id": "f3f1edcb-80fa-4843-b1cc-d3518822901b",
   "metadata": {},
   "source": [
    "*************************sleep*************************"
   ]
  },
  {
   "cell_type": "code",
   "execution_count": 95,
   "id": "c304c427-d943-4df1-9794-6f248e01558c",
   "metadata": {},
   "outputs": [
    {
     "name": "stdout",
     "output_type": "stream",
     "text": [
      ".............................."
     ]
    }
   ],
   "source": [
    "#sleep(num fo seconds) --> علشان ابطا المعالج علشان خاطر اليوزر واخليه يحس بانيميشن في الموضوع \n",
    "from time import sleep\n",
    "for i in range(30):# without func sleep will print the point quickly\n",
    "    print(\".\", end=\"\") # end=\"\" يعني حط في النهايه جنمب بعض متدوسش ادخال وتحطهم فوق بعض \n",
    "    sleep(0.5)# with func sleep it will print between each pint wait 1 second "
   ]
  },
  {
   "cell_type": "markdown",
   "id": "c01a790f-48d1-4d62-8253-7e47b8755ae8",
   "metadata": {},
   "source": [
    "**********************Nasted for loops**********************"
   ]
  },
  {
   "cell_type": "code",
   "execution_count": 96,
   "id": "78748f95-b0cf-4087-bc20-91d96bd95936",
   "metadata": {},
   "outputs": [
    {
     "name": "stdout",
     "output_type": "stream",
     "text": [
      "s h a h d \n",
      "m o a t a s e m \n",
      "q o r a n y \n"
     ]
    }
   ],
   "source": [
    "#nasted -->عش حاجة جوا حاجه\n",
    "name=\"shahd moatasem qorany\"\n",
    "names=name.split()\n",
    "for word in names:\n",
    "    for c in word:\n",
    "        print(c, end=\" \")\n",
    "    print(\"\")\n",
    "    sleep(0.5)\n",
    "       "
   ]
  },
  {
   "cell_type": "markdown",
   "id": "4bcb75c7-8942-4727-a37d-493f69e9a233",
   "metadata": {},
   "source": [
    "***************else in for loops***************"
   ]
  },
  {
   "cell_type": "code",
   "execution_count": 97,
   "id": "77c10e7a-9ac3-452d-b3a3-e2fa5f2e2bea",
   "metadata": {},
   "outputs": [
    {
     "name": "stdout",
     "output_type": "stream",
     "text": [
      "2\n",
      "3\n",
      "5\n",
      "7\n",
      "11\n",
      "13\n",
      "17\n",
      "19\n",
      "23\n",
      "29\n"
     ]
    }
   ],
   "source": [
    "# use when we don't use break\n",
    "#يعني بعد اللوب تخلص ومافيش بريك جملة else هتشتغل \n",
    "#to print primary number \n",
    "for number in range(1,30): \n",
    "    if number>1:\n",
    "        for i in range(2,number):\n",
    "            if (number%i)==0:  #لو قبل القسمه بدون باقي اذا هو عدد غير اولي\n",
    "                break #تخطي هذا الرقم\n",
    "           \n",
    "        else:\n",
    "             print(number)# لطباعة العدد الاولي اللي مش هيطلع برا بريك"
   ]
  },
  {
   "cell_type": "code",
   "execution_count": null,
   "id": "c278cc35-3b59-4c60-976e-712e39d50d73",
   "metadata": {},
   "outputs": [],
   "source": []
  }
 ],
 "metadata": {
  "kernelspec": {
   "display_name": "Python 3 (ipykernel)",
   "language": "python",
   "name": "python3"
  },
  "language_info": {
   "codemirror_mode": {
    "name": "ipython",
    "version": 3
   },
   "file_extension": ".py",
   "mimetype": "text/x-python",
   "name": "python",
   "nbconvert_exporter": "python",
   "pygments_lexer": "ipython3",
   "version": "3.12.4"
  }
 },
 "nbformat": 4,
 "nbformat_minor": 5
}
