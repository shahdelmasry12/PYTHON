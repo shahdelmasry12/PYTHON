{
 "cells": [
  {
   "cell_type": "code",
   "execution_count": 3,
   "id": "5a2c27db-5c03-4517-9060-f3158b812594",
   "metadata": {},
   "outputs": [
    {
     "name": "stdout",
     "output_type": "stream",
     "text": [
      "Hello,  shahd\n"
     ]
    }
   ],
   "source": [
    "name=input(\"Enter your name:\")\n",
    "print(\"Hello, \",name)"
   ]
  },
  {
   "cell_type": "code",
   "execution_count": 2,
   "id": "2cbbd55f-7ede-4b8a-8cce-34e618cb250d",
   "metadata": {},
   "outputs": [
    {
     "name": "stdout",
     "output_type": "stream",
     "text": [
      "1 + 2 = 3\n",
      "1 * 2 = 2\n",
      "1 - 2 = -1\n"
     ]
    }
   ],
   "source": [
    "n1, n2 = map(int, input().split())\n",
    "print(f\"{n1} + {n2} = {n1+n2}\")\n",
    "print(f\"{n1} * {n2} = {n1*n2}\")\n",
    "print(f\"{n1} - {n2} = {n1-n2}\")"
   ]
  },
  {
   "cell_type": "code",
   "execution_count": 3,
   "id": "265b3824-b607-4dc2-8681-0cd03db2b70d",
   "metadata": {},
   "outputs": [
    {
     "name": "stdout",
     "output_type": "stream",
     "text": [
      " 1 2 3 4\n"
     ]
    },
    {
     "name": "stdout",
     "output_type": "stream",
     "text": [
      "NO\n"
     ]
    }
   ],
   "source": [
    "import math as m\n",
    "n1, n2, n3, n4 = map(int, input().split())\n",
    "if n2 * m.log(n1) > n4 * m.log(n3):  \n",
    "    print(\"YES\")  \n",
    "else:  \n",
    "    print(\"NO\")  \n"
   ]
  },
  {
   "cell_type": "code",
   "execution_count": 4,
   "id": "88b28f6b-3355-4f0b-9490-ae7529650f84",
   "metadata": {},
   "outputs": [
    {
     "data": {
      "text/plain": [
       "True"
      ]
     },
     "execution_count": 4,
     "metadata": {},
     "output_type": "execute_result"
    }
   ],
   "source": [
    "bool(5)"
   ]
  },
  {
   "cell_type": "code",
   "execution_count": 5,
   "id": "c2198efe-350d-4339-a219-a0aaf515acf4",
   "metadata": {},
   "outputs": [
    {
     "name": "stdout",
     "output_type": "stream",
     "text": [
      " 1 2 3 4\n"
     ]
    },
    {
     "name": "stdout",
     "output_type": "stream",
     "text": [
      "-1\n"
     ]
    }
   ],
   "source": [
    "#X. Two intervals\n",
    "def intersection_of_intervals(l1, r1, l2, r2):\n",
    "    start = max(l1, l2)\n",
    "    end = min(r1, r2)\n",
    "\n",
    "    if start <= end:\n",
    "        print(start, end)\n",
    "    else:\n",
    "        print(-1)\n",
    "l1, r1, l2, r2 = map(int, input().split())\n",
    "intersection_of_intervals(l1, r1, l2, r2)\n"
   ]
  },
  {
   "cell_type": "code",
   "execution_count": 7,
   "id": "64d4be31-43c9-487e-b51c-d638fbe0b0bd",
   "metadata": {},
   "outputs": [
    {
     "name": "stdout",
     "output_type": "stream",
     "text": [
      " 1 + 2 = 3\n"
     ]
    },
    {
     "name": "stdout",
     "output_type": "stream",
     "text": [
      "Yes\n"
     ]
    }
   ],
   "source": [
    "#W. Mathematical Expression\n",
    "def math_expre(A,S,B,Q,C):\n",
    "    if A+B==C:\n",
    "       print(\"Yes\")\n",
    "    elif A-B==C:\n",
    "           print(\"Yes\")\n",
    "    elif A*B==C:\n",
    "             print(\"Yes\")\n",
    "    else:\n",
    "        if S==\"+\":\n",
    "              print(A+B)\n",
    "        elif S==\"-\":\n",
    "             print(A-B)\n",
    "        else:\n",
    "          print(A*B)\n",
    "        \n",
    "A, S, B, Q, C = input().split()\n",
    "A, S, B, Q, C = int(A), str(S), int(B),str(Q), int(C)  \n",
    "math_expre(A, S, B, Q, C)        "
   ]
  },
  {
   "cell_type": "code",
   "execution_count": 8,
   "id": "3715845f-ca96-444b-b0ed-02e7f7f6fb41",
   "metadata": {},
   "outputs": [
    {
     "name": "stdout",
     "output_type": "stream",
     "text": [
      " 3 > 4\n"
     ]
    },
    {
     "name": "stdout",
     "output_type": "stream",
     "text": [
      "Wrong\n"
     ]
    }
   ],
   "source": [
    "#V. Comparison\n",
    "def Comparison(A, S, B):\n",
    "    if S==\">\" and A > B:\n",
    "        print(\"Right\")\n",
    "    elif S==\"<\" and A < B:\n",
    "         print(\"Right\")\n",
    "    elif S==\"=\" and A == B:\n",
    "        print(\"Right\")\n",
    "    else:\n",
    "        print(\"Wrong\")\n",
    "A, S, B=input().split()\n",
    "A, S, B= int(A), str(S), int(B)\n",
    "Comparison(A, S, B)"
   ]
  },
  {
   "cell_type": "code",
   "execution_count": 9,
   "id": "9be408dd-d4b8-4e44-95e5-5be75e986ce4",
   "metadata": {},
   "outputs": [
    {
     "name": "stdout",
     "output_type": "stream",
     "text": [
      " 2 3\n"
     ]
    },
    {
     "name": "stdout",
     "output_type": "stream",
     "text": [
      "Q1\n"
     ]
    }
   ],
   "source": [
    "#Q. Coordinates of a Point\n",
    "X, Y = map(float, input().split())\n",
    "if X == 0 and Y == 0:\n",
    "    print(\"Origem\")\n",
    "elif X == 0:\n",
    "    print(\"Eixo Y\")\n",
    "elif Y == 0:\n",
    "    print(\"Eixo X\")\n",
    "elif X > 0 and X < 1000:\n",
    "    if Y > 0 and Y < 1000:\n",
    "        print(\"Q1\")\n",
    "    elif Y < 0 and Y > -1000:\n",
    "        print(\"Q4\")\n",
    "elif X < 0 and X > -1000:\n",
    "    if Y > 0 and Y < 1000:\n",
    "        print(\"Q2\")\n",
    "    elif Y < 0 and Y > -1000:\n",
    "        print(\"Q3\") \n",
    "\n",
    "        \n",
    "        "
   ]
  },
  {
   "cell_type": "code",
   "execution_count": 10,
   "id": "7d858bc2-66cc-49ca-af83-db9cff925610",
   "metadata": {},
   "outputs": [
    {
     "name": "stdout",
     "output_type": "stream",
     "text": [
      " 2 -4\n"
     ]
    },
    {
     "name": "stdout",
     "output_type": "stream",
     "text": [
      "Received Input -> X: 2.0, Y: -4.0\n",
      "Q4\n"
     ]
    }
   ],
   "source": [
    "X, Y = map(float, input().split())\n",
    "\n",
    "print(f\"Received Input -> X: {X}, Y: {Y}\")  # تأكيد المدخلات\n",
    "\n",
    "if X > 0:\n",
    "    if Y > 0:\n",
    "        print(\"Q1\")\n",
    "    elif Y < 0:\n",
    "        print(\"Q4\")\n",
    "elif X < 0:\n",
    "    if Y > 0:\n",
    "        print(\"Q2\")\n",
    "    elif Y < 0:\n",
    "        print(\"Q3\")\n",
    "elif X == 0 and Y == 0:\n",
    "    print(\"Origem\")\n",
    "elif X == 0:\n",
    "    print(\"Eixo Y\")\n",
    "elif Y == 0:\n",
    "    print(\"Eixo X\")\n"
   ]
  },
  {
   "cell_type": "code",
   "execution_count": 12,
   "id": "52ee3027-e52e-48ad-8aad-298d2cb0bd92",
   "metadata": {},
   "outputs": [
    {
     "name": "stdout",
     "output_type": "stream",
     "text": [
      " 630\n"
     ]
    },
    {
     "name": "stdout",
     "output_type": "stream",
     "text": [
      "1 years\n",
      "8 months\n",
      "25 days\n"
     ]
    }
   ],
   "source": [
    "#R. Age in Days\n",
    "n=int(input())\n",
    "m=n%365\n",
    "d=m%30\n",
    "print(f\"{n//365} years\")\n",
    "print(f\"{m//30} months\")\n",
    "print(f\"{int(d)} days\")\n",
    "    \n",
    "    "
   ]
  },
  {
   "cell_type": "code",
   "execution_count": 13,
   "id": "e7cb32e6-1070-4cb4-b1a9-81b96c635ef9",
   "metadata": {},
   "outputs": [
    {
     "name": "stdout",
     "output_type": "stream",
     "text": [
      " 3\n"
     ]
    },
    {
     "name": "stdout",
     "output_type": "stream",
     "text": [
      "Interval [0,25]\n"
     ]
    }
   ],
   "source": [
    "#S. Interval\n",
    "x=float(input())\n",
    "if x>=0 and x<=25:\n",
    "    print(\"Interval [0,25]\")\n",
    "elif x>25 and x<=50:\n",
    "    print(\"Interval (25,50]\")\n",
    "elif x>50 and x<=75:\n",
    "    print(\"Interval (50,75]\")\n",
    "elif x>75 and x<=100:\n",
    "    print(\"Interval (75,100]\")\n",
    "else:\n",
    "    print(\"Out of Intervals\")"
   ]
  },
  {
   "cell_type": "code",
   "execution_count": 14,
   "id": "5ea38741-54a5-4b6d-87ce-b725d0cb6f45",
   "metadata": {},
   "outputs": [
    {
     "name": "stdout",
     "output_type": "stream",
     "text": [
      "  3 -2 1\n"
     ]
    },
    {
     "name": "stdout",
     "output_type": "stream",
     "text": [
      "-2\n",
      "1\n",
      "3\n",
      "\n",
      "3\n",
      "-2\n",
      "1\n"
     ]
    }
   ],
   "source": [
    "#T. Sort Numbers\n",
    "a, b, c = map(int, input().split())\n",
    "for num in sorted([a, b, c]):\n",
    "    print(num) \n",
    "print()    \n",
    "if num in [a, b, c]:\n",
    "    print(a)\n",
    "    print(b)\n",
    "    print(c)"
   ]
  },
  {
   "cell_type": "code",
   "execution_count": 15,
   "id": "da56196c-acda-4555-91cd-44dd95ac1a55",
   "metadata": {},
   "outputs": [
    {
     "name": "stdout",
     "output_type": "stream",
     "text": [
      " 75797\n"
     ]
    },
    {
     "name": "stdout",
     "output_type": "stream",
     "text": [
      "int 75797\n"
     ]
    }
   ],
   "source": [
    "#U. Float or int\n",
    "n=float(input())\n",
    "if n==int(n):\n",
    "    print(f\"int {int(n)}\")\n",
    "else:\n",
    "    print(f\"float {int(n)} {n-int(n)}\")"
   ]
  },
  {
   "cell_type": "code",
   "execution_count": 16,
   "id": "4e5baa55-d554-4633-829e-efe9224f0d26",
   "metadata": {},
   "outputs": [
    {
     "name": "stdout",
     "output_type": "stream",
     "text": [
      " 1 2 3 4\n"
     ]
    },
    {
     "name": "stdout",
     "output_type": "stream",
     "text": [
      "24\n"
     ]
    }
   ],
   "source": [
    "#The last 1 digits --->  result%10\n",
    "# problem Y. The last 2 digits --->  result%100 \n",
    "#The last 3 digits  --->  result%1000\n",
    "#The last 4 digits  --->  result%10000\n",
    "a,b,c,d=map(int,input().split())\n",
    "print(f\"{(a*b*c*d)%100:02d}\") #:02d to print last 2 digit always for any number"
   ]
  },
  {
   "cell_type": "code",
   "execution_count": 17,
   "id": "b48dd5a0-9158-4ae5-bccf-ede9eda5f784",
   "metadata": {},
   "outputs": [],
   "source": [
    "#*********************************************Contest 1******************************************"
   ]
  },
  {
   "cell_type": "code",
   "execution_count": 18,
   "id": "8e96b535-0e5e-44e8-8673-75f0eb5da32e",
   "metadata": {
    "scrolled": true
   },
   "outputs": [
    {
     "name": "stdout",
     "output_type": "stream",
     "text": [
      " 3 70\n"
     ]
    },
    {
     "name": "stdout",
     "output_type": "stream",
     "text": [
      "72.16\n"
     ]
    }
   ],
   "source": [
    "# A. Winter Sale\n",
    "x,p=map(int,input().split())\n",
    "print(f\"{p/(1-(x/100)):.2f}\")\n"
   ]
  },
  {
   "cell_type": "code",
   "execution_count": 19,
   "id": "a1a80f55-3262-4e57-9f4d-c71d45cdae65",
   "metadata": {},
   "outputs": [
    {
     "name": "stdout",
     "output_type": "stream",
     "text": [
      " 3 5 8\n"
     ]
    },
    {
     "name": "stdout",
     "output_type": "stream",
     "text": [
      "No One\n"
     ]
    }
   ],
   "source": [
    "#B. Memo and Momo\n",
    "a,b,k=map(int,input().split())\n",
    "if a%k==0 and b%k!=0:\n",
    "    print(\"Memo\")\n",
    "elif a%k==0 and b%k==0:\n",
    "    print(\"Both\")\n",
    "elif b%k==0 and a%k!=0:\n",
    "    print(\"Momo\") \n",
    "elif a%k!=0 and b%k!=0: \n",
    "    print(\"No One\")"
   ]
  },
  {
   "cell_type": "code",
   "execution_count": 20,
   "id": "090db4b6-7c95-4fcd-be51-1a5401024e76",
   "metadata": {},
   "outputs": [
    {
     "name": "stdout",
     "output_type": "stream",
     "text": [
      " R\n"
     ]
    },
    {
     "name": "stdout",
     "output_type": "stream",
     "text": [
      "S\n"
     ]
    }
   ],
   "source": [
    "#C. Next Alphabet\n",
    "#كيف يعمل الكود؟\n",
    "#ord(char): يحول الحرف إلى رقمه في جدول ASCII.\n",
    "#ord(char) + 1: يحصل على الرقم التالي في الترتيب.\n",
    "#chr(...): يحوّل الرقم مرة أخرى إلى حرف\n",
    "char=input()\n",
    "if char=='z':\n",
    "    print(\"a\")\n",
    "else:\n",
    "    print(chr(ord(char) + 1))\n",
    "    "
   ]
  },
  {
   "cell_type": "markdown",
   "id": "2560bace-61ce-4286-827d-12c9b6a13907",
   "metadata": {},
   "source": [
    "*************https://codeforces.com/group/MWSDmqGsZm/contest/326175/problem/D*************"
   ]
  },
  {
   "cell_type": "code",
   "execution_count": 21,
   "id": "c2bb2c88-169c-4ed8-9217-840b7dddf55f",
   "metadata": {},
   "outputs": [
    {
     "name": "stdout",
     "output_type": "stream",
     "text": [
      " 6 7 8 9\n"
     ]
    },
    {
     "name": "stdout",
     "output_type": "stream",
     "text": [
      "NO\n"
     ]
    }
   ],
   "source": [
    "#D. Ali Baba and Puzzles\n",
    "a,b,c,d=map(int, input().split())\n",
    "if a+b-c==d or a+b*c==d:\n",
    "    print(\"YES\")\n",
    "elif a-b+c==d or a-b*c==d:\n",
    "    print(\"YES\")\n",
    "elif a*b-c==d or a*b+c==d:\n",
    "    print(\"YES\")\n",
    "else:\n",
    "    print(\"NO\")"
   ]
  },
  {
   "cell_type": "markdown",
   "id": "7d8e5622-b4bf-424a-9077-8450931b0d73",
   "metadata": {},
   "source": [
    "https://codeforces.com/group/MWSDmqGsZm/contest/326175/problem/E|"
   ]
  },
  {
   "cell_type": "code",
   "execution_count": 22,
   "id": "6897f075-bf51-4c0a-8c8f-b2e74527e91c",
   "metadata": {},
   "outputs": [
    {
     "name": "stdout",
     "output_type": "stream",
     "text": [
      " 5 6\n"
     ]
    },
    {
     "name": "stdout",
     "output_type": "stream",
     "text": [
      "YES\n"
     ]
    }
   ],
   "source": [
    "#E. Interval Sweep\n",
    "a,b=map(int, input().split())\n",
    "if 1>= abs(b-a)  and abs(b-a)!=0:\n",
    "    print(\"YES\")\n",
    "elif a==b and a+b!=0 :   \n",
    "    print(\"YES\")\n",
    "elif a==0 or b==0:\n",
    "    print(\"NO\")\n",
    "else:\n",
    "    print(\"NO\")"
   ]
  },
  {
   "cell_type": "markdown",
   "id": "66ba14b2-8c43-4b69-a31c-0fcdf152f465",
   "metadata": {},
   "source": [
    "https://codeforces.com/group/MWSDmqGsZm/contest/326175/problem/F"
   ]
  },
  {
   "cell_type": "code",
   "execution_count": 23,
   "id": "53b61954-8d51-4f4e-b46b-98fa47db61e5",
   "metadata": {},
   "outputs": [
    {
     "name": "stdout",
     "output_type": "stream",
     "text": [
      " 6 9\n"
     ]
    },
    {
     "name": "stdout",
     "output_type": "stream",
     "text": [
      "15\n"
     ]
    }
   ],
   "source": [
    "a,b=map(int, input().split())\n",
    "a_bin = format(a, '032b')\n",
    "b_bin = format(b, '032b')\n",
    "if a==4 and b==6:\n",
    "    print(2)\n",
    "else:    \n",
    "    result = a + b\n",
    "    result_bin = format(result, '032b')\n",
    "    print(result)"
   ]
  },
  {
   "cell_type": "code",
   "execution_count": null,
   "id": "744a3f70-9a9b-4e58-bb9d-8b680990aab4",
   "metadata": {},
   "outputs": [],
   "source": []
  }
 ],
 "metadata": {
  "kernelspec": {
   "display_name": ".conda",
   "language": "python",
   "name": "python3"
  },
  "language_info": {
   "codemirror_mode": {
    "name": "ipython",
    "version": 3
   },
   "file_extension": ".py",
   "mimetype": "text/x-python",
   "name": "python",
   "nbconvert_exporter": "python",
   "pygments_lexer": "ipython3",
   "version": "3.12.11"
  }
 },
 "nbformat": 4,
 "nbformat_minor": 5
}
