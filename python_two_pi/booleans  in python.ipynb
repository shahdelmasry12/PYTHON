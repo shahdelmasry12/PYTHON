{
 "cells": [
  {
   "cell_type": "raw",
   "id": "068fb2b9-ac36-4fad-a805-7c9452179e5d",
   "metadata": {},
   "source": [
    "booleans in python "
   ]
  },
  {
   "cell_type": "code",
   "execution_count": 1,
   "id": "c784c8bd-f865-4c0a-946a-f84b89a28cc2",
   "metadata": {},
   "outputs": [],
   "source": [
    "#ord==digit  unicode to char\n",
    "# \"Hello\"<\"Hi\" --> True # bec unicode He < unicode Hi  e=101 ,i=105\n",
    "# unicode to capital char diff about unicode to small char"
   ]
  },
  {
   "cell_type": "code",
   "execution_count": 5,
   "id": "903efea9-7220-46f3-8022-a9b6adccc044",
   "metadata": {},
   "outputs": [
    {
     "name": "stdout",
     "output_type": "stream",
     "text": [
      "True\n"
     ]
    }
   ],
   "source": [
    "student_age=20\n",
    "hi_grade=True\n",
    "print(student_age>=18 and hi_grade)# his age graeter than or equel to 18 && get high grade"
   ]
  },
  {
   "cell_type": "code",
   "execution_count": 9,
   "id": "8dcf3959-7b21-4434-8297-ae597c5b1ccd",
   "metadata": {},
   "outputs": [
    {
     "data": {
      "text/plain": [
       "False"
      ]
     },
     "execution_count": 9,
     "metadata": {},
     "output_type": "execute_result"
    }
   ],
   "source": [
    "#bool(5)\n",
    "bool(\"\")\n",
    "#bool(0)"
   ]
  },
  {
   "cell_type": "raw",
   "id": "94dc7d7c-b236-451c-9978-ab1fc9d67304",
   "metadata": {},
   "source": []
  },
  {
   "cell_type": "code",
   "execution_count": null,
   "id": "b888fb04-b152-4dd3-b1d5-7064a81671b2",
   "metadata": {},
   "outputs": [],
   "source": []
  },
  {
   "cell_type": "raw",
   "id": "b3d39640-2147-4297-8e0e-af6dc7eeadd5",
   "metadata": {},
   "source": []
  },
  {
   "cell_type": "code",
   "execution_count": 11,
   "id": "a535920b-c29a-4ec7-8bfa-3bb47db64b5d",
   "metadata": {},
   "outputs": [
    {
     "ename": "NameError",
     "evalue": "name 'H' is not defined",
     "output_type": "error",
     "traceback": [
      "\u001b[1;31m---------------------------------------------------------------------------\u001b[0m",
      "\u001b[1;31mNameError\u001b[0m                                 Traceback (most recent call last)",
      "Cell \u001b[1;32mIn[11], line 1\u001b[0m\n\u001b[1;32m----> 1\u001b[0m H\n",
      "\u001b[1;31mNameError\u001b[0m: name 'H' is not defined"
     ]
    }
   ],
   "source": []
  },
  {
   "cell_type": "code",
   "execution_count": null,
   "id": "d4008fde-ffb4-40b2-b457-abdf8d6ee6e7",
   "metadata": {},
   "outputs": [],
   "source": []
  }
 ],
 "metadata": {
  "kernelspec": {
   "display_name": "Python 3 (ipykernel)",
   "language": "python",
   "name": "python3"
  },
  "language_info": {
   "codemirror_mode": {
    "name": "ipython",
    "version": 3
   },
   "file_extension": ".py",
   "mimetype": "text/x-python",
   "name": "python",
   "nbconvert_exporter": "python",
   "pygments_lexer": "ipython3",
   "version": "3.12.4"
  }
 },
 "nbformat": 4,
 "nbformat_minor": 5
}
